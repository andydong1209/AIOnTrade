{
 "cells": [
  {
   "cell_type": "code",
   "execution_count": 1,
   "metadata": {},
   "outputs": [],
   "source": [
    "from numpy import cumsum, log, polyfit, sqrt, std, subtract\n",
    "import numpy as pd\n",
    "from numpy.random import randn\n",
    "from datetime import datetime\n",
    "import pandas as pd\n",
    "import pandas_datareader.data as web\n",
    "\n",
    "\n",
    "def hurst(ts):\n",
    "    \"\"\"Returns the Hurst Exponent of the time series vector ts\"\"\"\n",
    "    # Create the range of lag values\n",
    "    lags = range(2, 100)\n",
    "\n",
    "    # Calculate the array of the variances of the lagged differences\n",
    "    tau = [sqrt(std(subtract(ts[lag:], ts[:-lag]))) for lag in lags]\n",
    "    # Use a linear fit to estimate the Hurst Exponent\n",
    "    poly = polyfit(log(lags), log(tau), 1)\n",
    "    # Return the Hurst exponent from the polyfit output\n",
    "    return poly[0]*2.0"
   ]
  },
  {
   "cell_type": "code",
   "execution_count": 2,
   "metadata": {},
   "outputs": [
    {
     "name": "stdout",
     "output_type": "stream",
     "text": [
      "Hurst(RW): 0.5181418089237819\n",
      "Hurst(MR): -9.401334845444734e-05\n",
      "Hurst(TR): 0.9555476723038042\n"
     ]
    }
   ],
   "source": [
    "# Create a Random Walk, Mean-Reverting and Trending Series\n",
    "rw = log(cumsum(randn(100000))+1000)\n",
    "mr = log(randn(100000)+1000)\n",
    "tr = log(cumsum(randn(100000)+1)+1000)\n",
    "\n",
    "# Output the Hurst Exponent for each of the above series\n",
    "# and the price of Amazon (the Adjusted Close price) for\n",
    "# the ADF test given above in the article\n",
    "print(\"Hurst(RW): %s\" % hurst(rw))\n",
    "print(\"Hurst(MR): %s\" % hurst(mr))\n",
    "print(\"Hurst(TR): %s\" % hurst(tr))"
   ]
  },
  {
   "cell_type": "code",
   "execution_count": 3,
   "metadata": {},
   "outputs": [
    {
     "name": "stdout",
     "output_type": "stream",
     "text": [
      "Hurst(AMZN): 0.45433747655250484\n"
     ]
    }
   ],
   "source": [
    "# amzn = web.DataReader(\"AMZN\", \"yahoo\", datetime(2000,1,1), datetime(2015,1,1))\n",
    "amzn = pd.read_csv('amazon.csv', index_col=0, parse_dates=True, infer_datetime_format=True)\n",
    "amznts = amzn['Adj Close'].values\n",
    "print(\"Hurst(AMZN): %s\" % hurst(amznts))"
   ]
  },
  {
   "cell_type": "code",
   "execution_count": 4,
   "metadata": {},
   "outputs": [
    {
     "name": "stdout",
     "output_type": "stream",
     "text": [
      "Hurst(USDCAD): 0.5023392536498619\n",
      "Hurst(CAD1): 0.525076898177118\n",
      "Hurst(CAD2): 0.5143931486864418\n",
      "Hurst(CAD3): 0.504655797261495\n"
     ]
    }
   ],
   "source": [
    "usdcad = pd.read_csv('USDCAD_FED.csv', index_col=0, parse_dates=True, infer_datetime_format=True)\n",
    "usdcadts = usdcad.values\n",
    "print(\"Hurst(USDCAD): %s\" % hurst(usdcadts))\n",
    "cad1ts = usdcadts[-250:]\n",
    "cad2ts = usdcadts[-500:]\n",
    "cad3ts = usdcadts[-1000:]\n",
    "print(\"Hurst(CAD1): %s\" % hurst(cad1ts))\n",
    "print(\"Hurst(CAD2): %s\" % hurst(cad2ts))\n",
    "print(\"Hurst(CAD3): %s\" % hurst(cad3ts))"
   ]
  },
  {
   "cell_type": "code",
   "execution_count": null,
   "metadata": {},
   "outputs": [],
   "source": []
  }
 ],
 "metadata": {
  "kernelspec": {
   "display_name": "Python 3",
   "language": "python",
   "name": "python3"
  },
  "language_info": {
   "codemirror_mode": {
    "name": "ipython",
    "version": 3
   },
   "file_extension": ".py",
   "mimetype": "text/x-python",
   "name": "python",
   "nbconvert_exporter": "python",
   "pygments_lexer": "ipython3",
   "version": "3.7.4"
  }
 },
 "nbformat": 4,
 "nbformat_minor": 2
}
