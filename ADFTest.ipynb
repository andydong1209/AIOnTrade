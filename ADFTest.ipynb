{
 "cells": [
  {
   "cell_type": "code",
   "execution_count": 1,
   "metadata": {},
   "outputs": [
    {
     "name": "stdout",
     "output_type": "stream",
     "text": [
      "(0.06081564220277301, 0.9632816990833106, 1, 3772, {'1%': -3.4320848238976502, '5%': -2.8623065496541926, '10%': -2.567178044723694}, 19585.1442923445)\n",
      "0.06081564220277301\n",
      "-2.8623065496541926\n"
     ]
    }
   ],
   "source": [
    "# Import the Time Series library\n",
    "import statsmodels.tsa.stattools as ts\n",
    "\n",
    "# Import Datetime and the Pandas DataReader\n",
    "from datetime import datetime\n",
    "import pandas_datareader.data as web\n",
    "import pandas as pd\n",
    "\n",
    "# Download the Amazon OHLCV data from 1/1/2000 to 1/1/2015\n",
    "amzn = web.DataReader(\"AMZN\", \"yahoo\", datetime(2000,1,1), datetime(2015,1,1))\n",
    "# amzn = pd.read_csv(\"amazon.csv\", index_col=0, parse_dates=True, infer_datetime_format=True)\n",
    "\n",
    "# Output the results of the Augmented Dickey-Fuller test for Amazon\n",
    "# with a lag order value of 1\n",
    "result = ts.adfuller(amzn['Adj Close'], 1)\n",
    "\n",
    "print(result)\n",
    "\n",
    "print(result[0])\n",
    "print(result[4]['5%'])"
   ]
  },
  {
   "cell_type": "code",
   "execution_count": null,
   "metadata": {},
   "outputs": [],
   "source": []
  }
 ],
 "metadata": {
  "kernelspec": {
   "display_name": "Python 3",
   "language": "python",
   "name": "python3"
  },
  "language_info": {
   "codemirror_mode": {
    "name": "ipython",
    "version": 3
   },
   "file_extension": ".py",
   "mimetype": "text/x-python",
   "name": "python",
   "nbconvert_exporter": "python",
   "pygments_lexer": "ipython3",
   "version": "3.6.5"
  }
 },
 "nbformat": 4,
 "nbformat_minor": 2
}
